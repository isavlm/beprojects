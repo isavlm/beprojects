{
 "cells": [
  {
   "cell_type": "markdown",
   "metadata": {},
   "source": [
    "### Chapter 1 -  An Introduction to Python Programming - Murach's Book\n",
    "\n",
    "#!/usr/bin/env/python3  ##This is known as the shebang line - it is ignored by windows but it tells Unix-like OS (like MAC) that we will use python 3. \n",
    "IN chapter 1 you will learn about the terms and how to yse IDLE and an interpreter. "
   ]
  },
  {
   "cell_type": "markdown",
   "metadata": {},
   "source": [
    "### Chapter 2 - How to write your first programs\n",
    "### Notes\n",
    "A function is a reusable unit of code that performs a specific task. Python has many built-in functions. \n",
    "calling a function: \n",
    "function_name([this is where arguments go])\n",
    "example: \n",
    "print(\"Hello\")\n",
    "\n",
    "\n"
   ]
  },
  {
   "cell_type": "markdown",
   "metadata": {},
   "source": []
  },
  {
   "cell_type": "code",
   "execution_count": 4,
   "metadata": {},
   "outputs": [
    {
     "name": "stdout",
     "output_type": "stream",
     "text": [
      "Total Score: 100\n",
      "Average Score: 100\n"
     ]
    }
   ],
   "source": [
    "##Sample code from page 29 - \n",
    "#initialize variables\n",
    "counter = 0\n",
    "score_total = 0\n",
    "test_score = 0\n",
    "\n",
    "#get scores\n",
    "while test_score != 999: #While the test score is not 999...\n",
    "    test_score = int(input(\"Enter test score \"))\n",
    "    if test_score >= 0 and test_score <=100:\n",
    "        score_total += test_score\n",
    "        counter += 1  #adding 1 to counter - This is a inline comment\n",
    "        \n",
    "\n",
    "#calculate average score\n",
    "average_score = round(score_total/counter) #this line will divide the score total by counter, but round the result. \n",
    "\n",
    "#display result\n",
    "print(\"Total Score: \" + str(score_total))\n",
    "print(\"Average Score: \" + str(average_score))\n"
   ]
  },
  {
   "cell_type": "code",
   "execution_count": 1,
   "metadata": {},
   "outputs": [
    {
     "name": "stdout",
     "output_type": "stream",
     "text": [
      "The Miles per Gallon program\n",
      "\n",
      "\n",
      "Miles per Gallon: \t\t6.0\n",
      "\n",
      "Bye\n"
     ]
    }
   ],
   "source": [
    "#Sample code from page 57 \n",
    "\n",
    "#Display a title\n",
    "\n",
    "print(\"The Miles per Gallon program\")\n",
    "print() #to skip a line \n",
    "\n",
    "#get input from the user\n",
    "\n",
    "miles_driven = float(input(\"Enter the miles driven: \\t\\t\"))\n",
    "gallons_used = float(input(\"Enter gallos of gas used:\\2\"))\n",
    "\n",
    "#calculate and round miles per gallon\n",
    "\n",
    "mpg = miles_driven / gallons_used\n",
    "mpg = round(mpg, 2) #Why this 2??\n",
    "\n",
    "#display the result \n",
    "print()\n",
    "print(f\"Miles per Gallon: \\t\\t{mpg}\")\n",
    "print()\n",
    "print(\"Bye\")\n",
    "\n",
    "      "
   ]
  },
  {
   "cell_type": "code",
   "execution_count": 14,
   "metadata": {},
   "outputs": [
    {
     "name": "stdout",
     "output_type": "stream",
     "text": [
      "The Test Scores Program\n",
      "\n",
      "Enter 3 test scores\n",
      "======================\n",
      "======================\n",
      "Your test score:  10 2 8\n",
      "Total Score:  20 \n",
      "Average Score:  7\n",
      "\n",
      "Bye\n"
     ]
    }
   ],
   "source": [
    "#sample code from page 59 that ilustrates what was learned on Chapter 2. \n",
    "#this program is similar to the program on pg 29. \n",
    "\n",
    "#display a title\n",
    "print(\"The Test Scores Program\")\n",
    "print()\n",
    "print(\"Enter 3 test scores\")\n",
    "print(\"======================\")\n",
    "\n",
    "#get scores from the user and accumulate the total \n",
    "\n",
    "total_score = 0  #it is zero so we can initialize the variable. \n",
    "total_score += int(input(\"Enter test score: \"))\n",
    "total_score += int(input(\"Enter test score: \"))\n",
    "total_score += int(input(\"Enter test score: \"))\n",
    "\n",
    "#calculate average score\n",
    "\n",
    "average_score = round(total_score / 3)\n",
    "\n",
    "#format and display the result\n",
    "print(\"======================\")\n",
    "print(\"Total Score: \", total_score, \"\\nAverage Score: \", average_score)\n",
    "print()\n",
    "print(\"Bye\")\n",
    "\n",
    "\n"
   ]
  },
  {
   "cell_type": "markdown",
   "metadata": {},
   "source": [
    "### Exercise pages 62-64 "
   ]
  },
  {
   "cell_type": "code",
   "execution_count": null,
   "metadata": {},
   "outputs": [],
   "source": [
    "#page 62 Exercise 2-1\n",
    "\n",
    "#Display a title\n",
    "\n",
    "print(\"The Miles per Gallon program\")\n",
    "print() #to skip a line \n",
    "\n",
    "#get input from the user\n",
    "\n",
    "miles_driven = float(input(\"Enter the miles driven: \\t\\t\"))\n",
    "gallons_used = float(input(\"Enter gallons of gas used: \\t\"))\n",
    "cost_per_gallon = float(input(\"Enter cost per gallon: \\t\"))\n",
    "\n",
    "#calculate and round miles per gallon\n",
    "\n",
    "mpg = miles_driven / gallons_used\n",
    "mpg = round(miles_driven/gallons_used, 2)\n",
    "\n",
    "#calculate total gas cost\n",
    "\n",
    "total_gas_cost = round(gallons_used * cost_per_gallon)\n",
    "\n",
    "#calculate cost per mile\n",
    "\n",
    "cost_per_mile = round(total_gas_cost / miles_driven) \n",
    "\n",
    "\n",
    "#display the result \n",
    "print()\n",
    "print(f\"Miles per Gallon: \\t\\t{mpg}\")\n",
    "print(\"Total Gas Cost: \\t\\t\" + str(total_gas_cost))\n",
    "print(\"Cost per Mile: \\t\\t\" + str(cost_per_mile))\n",
    "print()\n",
    "print(\"Bye\")\n"
   ]
  },
  {
   "cell_type": "code",
   "execution_count": null,
   "metadata": {},
   "outputs": [],
   "source": [
    "#Page 63 Exercise 2-2\n",
    "\n",
    "#display a title\n",
    "print(\"The Test Scores Program\")\n",
    "print()\n",
    "print(\"Enter 3 test scores\")\n",
    "print(\"======================\")\n",
    "\n",
    "#get scores from the user and accumulate the total \n",
    "\n",
    "total_score = 0  #it is zero so we can initialize the variable. \n",
    "score1 = int(input(\"Enter test score: \"))\n",
    "score2 = int(input(\"Enter test score: \"))\n",
    "score3 = int(input(\"Enter test score: \"))\n",
    "\n",
    "total_score += score1\n",
    "total_score += score2\n",
    "total_score += score3\n",
    "\n",
    "\n",
    "#calculate average score\n",
    "\n",
    "average_score = round(total_score / 3)\n",
    "\n",
    "#format and display the result\n",
    "print(\"======================\")\n",
    "print(\"Your tests scores: \", score1, score2,score3)\n",
    "print(\"Total Score: \", total_score, \"\\nAverage Score: \", average_score)\n",
    "print()\n",
    "print(\"Bye\")"
   ]
  },
  {
   "cell_type": "code",
   "execution_count": 22,
   "metadata": {},
   "outputs": [
    {
     "name": "stdout",
     "output_type": "stream",
     "text": [
      "The Area and Perimeter program\n",
      "\n",
      "\n",
      "Area: \t\t250\n",
      "\n",
      "Perimeter: \t\t70\n",
      "\n",
      "Bye!\n"
     ]
    }
   ],
   "source": [
    "#Exercise 2-3 \n",
    "\n",
    "#Display a title\n",
    "\n",
    "print(\"The Area and Perimeter program\")\n",
    "print() #to skip a line \n",
    "\n",
    "#get input from the user\n",
    "\n",
    "rect_length = int(input(\"Enter the length: \\t\\t\"))\n",
    "rect_width = int(input(\"Enter the width:\\t\"))\n",
    "\n",
    "#calculate and round miles per gallon\n",
    "\n",
    "area = rect_length * rect_width\n",
    "perimeter = 2 * (rect_length + rect_width)\n",
    "\n",
    "#display the result \n",
    "print()\n",
    "print(f\"Area: \\t\\t{area}\")\n",
    "print()\n",
    "print(f\"Perimeter: \\t\\t{perimeter}\")\n",
    "print()\n",
    "print(\"Bye!\")"
   ]
  },
  {
   "cell_type": "markdown",
   "metadata": {},
   "source": [
    "### Chapter 3 - How to code control statements\n",
    "\n",
    "Boolean = True or False \n",
    "\n",
    "you cant use != or == with floats \n",
    "\n",
    "Boolean is used to compare operands and return if it is true or false. \n",
    "\n",
    "# Logical Operators ORDER of precedence\n",
    "\n",
    "NOT - AND - OR \n",
    "\n",
    "\n",
    "# Strint methods. \n",
    "REmember that lower and uppder cases are not the same. so you have to use the string method lower() or upper() >>> variableName.methodName() \n",
    "example: \n",
    "customer_type.lower() == \"r\""
   ]
  }
 ],
 "metadata": {
  "kernelspec": {
   "display_name": "Python 3",
   "language": "python",
   "name": "python3"
  },
  "language_info": {
   "codemirror_mode": {
    "name": "ipython",
    "version": 3
   },
   "file_extension": ".py",
   "mimetype": "text/x-python",
   "name": "python",
   "nbconvert_exporter": "python",
   "pygments_lexer": "ipython3",
   "version": "3.11.5"
  }
 },
 "nbformat": 4,
 "nbformat_minor": 2
}
